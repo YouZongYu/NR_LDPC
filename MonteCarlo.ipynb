{
 "cells": [
  {
   "cell_type": "code",
   "execution_count": 73,
   "metadata": {},
   "outputs": [],
   "source": [
    "%reset -f\n",
    "import numpy as np\n",
    "from scipy.io import loadmat, savemat\n",
    "from scipy.sparse import csr_matrix\n",
    "from scipy.sparse import find\n",
    "from numba import jit\n",
    "import warnings\n",
    "from joblib import Parallel, delayed\n",
    "import os\n",
    "import time\n",
    "\n",
    "from PDSCH_Class import mcs\n",
    "from CRC_encoding import nrCRCencode\n",
    "from nrModulation import nrSymbolModulate, nrSymbolDemodulate\n",
    "# from nrLDPC import nrLDPCencode\n",
    "from nrLDPC import nrLDPCencode, nrLDPCdecode\n"
   ]
  },
  {
   "cell_type": "code",
   "execution_count": 74,
   "metadata": {},
   "outputs": [],
   "source": [
    "NumIter = int(1e+2)\n",
    "snrdB = -3.2\n",
    "BGN = 2\n",
    "Z = 52\n",
    "maxIter = 20\n",
    "loadbuffer = False\n",
    "np.random.seed(0)\n",
    "warnings.filterwarnings(\"ignore\", category=RuntimeWarning)"
   ]
  },
  {
   "cell_type": "code",
   "execution_count": 75,
   "metadata": {},
   "outputs": [],
   "source": [
    "def Indicator(rngseed, chIn, mcs):\n",
    "    np.random.seed(rngseed)\n",
    "# def Indicator(chIn, mcs):\n",
    "    noise = (np.random.standard_normal(mcs.SignalSize) + 1j * np.random.standard_normal(mcs.SignalSize))/np.sqrt(2)*mcs.noiseStd\n",
    "    chOut = chIn + noise\n",
    "    LLR = nrSymbolDemodulate(chOut, mcs.noiseVar, mcs.modulation)\n",
    "    dec = nrLDPCdecode(LLR,mcs.Z,mcs.Num1,mcs.maxIter,mcs.Hsize,mcs.RowNum1,mcs.RowWiseIdxPerLayer)\n",
    "    return not np.array_equal(mcs.In,dec[:-mcs.LTB])"
   ]
  },
  {
   "cell_type": "code",
   "execution_count": 76,
   "metadata": {},
   "outputs": [],
   "source": [
    "mcs = mcs()\n",
    "mcs.modulation = 'QPSK'\n",
    "mcs.CRC = '16'\n",
    "LTB = 16\n",
    "mcs.Setup(BGN, Z, LTB, maxIter)"
   ]
  },
  {
   "cell_type": "code",
   "execution_count": 77,
   "metadata": {},
   "outputs": [],
   "source": [
    "mcs.In = np.random.randint(2, size = (mcs.A,1))\n",
    "tbIn = nrCRCencode(mcs.In,mcs.CRC)\n",
    "enc = nrLDPCencode(tbIn,mcs)\n",
    "chIn = nrSymbolModulate(enc,mcs.modulation)\n",
    "mcs.SignalSize = chIn.shape\n",
    "mcs.noiseVar = 10**(-snrdB/10)\n",
    "mcs.noiseStd = 10**(-0.5*snrdB/10)"
   ]
  },
  {
   "cell_type": "code",
   "execution_count": 78,
   "metadata": {},
   "outputs": [],
   "source": [
    "# NumErrors = np.zeros((NumIter,1),dtype='bool')\n",
    "# for i in range(0,NumIter):\n",
    "#     NumErrors[i] = Indicator(chIn, mcs)\n",
    "# print(np.sum(NumErrors)/NumIter)"
   ]
  },
  {
   "cell_type": "code",
   "execution_count": 79,
   "metadata": {},
   "outputs": [],
   "source": [
    "MC_buffer = 'result/SNR_' + str(snrdB) + '_BG_' + str(BGN) + '_Z_' + str(Z) + '_buffer.mat'\n",
    "MC_file = 'result/SNR_' + str(snrdB) + '_BG_' + str(BGN) + '_Z_' + str(Z) + '.mat'\n",
    "if loadbuffer and os.path.exists(MC_buffer):\n",
    "    MatData = loadmat(MC_buffer)\n",
    "    N = MatData['N']\n",
    "    Ne = MatData['Ne']\n",
    "    count = MatData['count']\n",
    "else:\n",
    "    count = 0\n",
    "    N = 0\n",
    "    Ne = 0    "
   ]
  },
  {
   "cell_type": "code",
   "execution_count": 80,
   "metadata": {},
   "outputs": [],
   "source": [
    "start_time = time.time()\n",
    "\n",
    "while True:\n",
    "    rngSeeds = range(count*NumIter,(count+1)*NumIter)\n",
    "    NumErrors = Parallel(n_jobs=-1)(delayed(Indicator)(i,chIn,mcs) for i in rngSeeds)\n",
    "    cumError = np.cumsum(NumErrors)\n",
    "    if (Ne + cumError[-1] < 100):\n",
    "        Ne += cumError[-1]\n",
    "    else:\n",
    "        N = np.where(cumError+Ne == 100)[0][0]\n",
    "        break\n",
    "    count += 1\n",
    "    saveData = {'Ne':Ne, 'N':N, 'count':count}\n",
    "    savemat(MC_buffer, saveData)\n",
    "\n",
    "IterMC = N + count*NumIter\n",
    "PeMC = 100 / IterMC\n",
    "\n",
    "end_time = time.time()\n",
    "\n",
    "Runtime = end_time - start_time\n",
    "\n",
    "saveData = {'N':N, 'PeMC':PeMC, 'Runtime':Runtime}\n",
    "savemat(MC_file, saveData)"
   ]
  }
 ],
 "metadata": {
  "kernelspec": {
   "display_name": "Python 3.8.10 64-bit",
   "language": "python",
   "name": "python3"
  },
  "language_info": {
   "codemirror_mode": {
    "name": "ipython",
    "version": 3
   },
   "file_extension": ".py",
   "mimetype": "text/x-python",
   "name": "python",
   "nbconvert_exporter": "python",
   "pygments_lexer": "ipython3",
   "version": "3.8.10"
  },
  "orig_nbformat": 4,
  "vscode": {
   "interpreter": {
    "hash": "5bfac6485654dd7950f536e81b520ba43b1d289cc946fb39cf9b53ca6cef02e3"
   }
  }
 },
 "nbformat": 4,
 "nbformat_minor": 2
}
